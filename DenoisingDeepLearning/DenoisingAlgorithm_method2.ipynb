{
 "cells": [
  {
   "cell_type": "markdown",
   "metadata": {},
   "source": [
    "DENOISING ALGORITHM - SECOND METHOD "
   ]
  },
  {
   "cell_type": "code",
   "execution_count": null,
   "metadata": {},
   "outputs": [],
   "source": [
    "import numpy as np\n",
    "import pywt\n",
    "from scipy.fft import fft, rfft\n",
    "from scipy.fft import fftfreq, rfftfreq\n",
    "from scipy.linalg import svd\n",
    "from scipy.ndimage.filters import maximum_filter\n",
    "import matplotlib.pyplot as plt\n",
    "import sys\n",
    "import statistics \n",
    "from scipy.ndimage import gaussian_filter1d\n",
    "from scipy.interpolate import UnivariateSpline\n",
    "from scipy.signal import find_peaks, savgol_filter"
   ]
  },
  {
   "cell_type": "code",
   "execution_count": null,
   "metadata": {},
   "outputs": [],
   "source": [
    "#apply a Savitzky-Golay filter\n",
    "smooth = savgol_filter(data, window_length = 351, polyorder = 5)\n",
    "smooth = savgol_filter(signal, window_length = 20,  polyorder = 3)\n",
    "\n",
    "plt.plot(signal)\n",
    "plt.plot(smooth)"
   ]
  },
  {
   "cell_type": "code",
   "execution_count": null,
   "metadata": {},
   "outputs": [],
   "source": []
  },
  {
   "cell_type": "code",
   "execution_count": null,
   "metadata": {},
   "outputs": [],
   "source": []
  },
  {
   "cell_type": "code",
   "execution_count": null,
   "metadata": {},
   "outputs": [],
   "source": []
  },
  {
   "cell_type": "code",
   "execution_count": null,
   "metadata": {},
   "outputs": [],
   "source": []
  }
 ],
 "metadata": {
  "kernelspec": {
   "display_name": "Python 3",
   "language": "python",
   "name": "python3"
  },
  "language_info": {
   "name": "python",
   "version": "3.11.8"
  }
 },
 "nbformat": 4,
 "nbformat_minor": 2
}
